{
 "cells": [
  {
   "cell_type": "markdown",
   "metadata": {},
   "source": [
    "## 4. AutoML-choice"
   ]
  },
  {
   "cell_type": "markdown",
   "metadata": {},
   "source": [
    "### Dependencies\n",
    "\n",
    "Installing dependencies (commented out, as they have already been intalled)"
   ]
  },
  {
   "cell_type": "markdown",
   "metadata": {},
   "source": [
    "Help document can be found here: https://docs.microsoft.com/en-us/azure/machine-learning/how-to-auto-train-image-models"
   ]
  },
  {
   "cell_type": "markdown",
   "metadata": {},
   "source": [
    "## Access datastore"
   ]
  },
  {
   "cell_type": "code",
   "execution_count": 1,
   "metadata": {},
   "outputs": [],
   "source": [
    "# azureml-core of version 1.0.72 or higher is required\n",
    "from azureml.core import Workspace, Dataset\n",
    "\n",
    "DS_PATH = 'cer_auto_hezhang'\n",
    "\n",
    "ws = Workspace.from_config()"
   ]
  },
  {
   "cell_type": "markdown",
   "metadata": {},
   "source": [
    "### Reference labeling data set"
   ]
  },
  {
   "cell_type": "code",
   "execution_count": 5,
   "metadata": {},
   "outputs": [],
   "source": [
    "training_dataset = Dataset.get_by_name(ws, name='cer_auto_hezhang')"
   ]
  },
  {
   "cell_type": "code",
   "execution_count": 6,
   "metadata": {},
   "outputs": [
    {
     "data": {
      "text/html": [
       "<div>\n",
       "<style scoped>\n",
       "    .dataframe tbody tr th:only-of-type {\n",
       "        vertical-align: middle;\n",
       "    }\n",
       "\n",
       "    .dataframe tbody tr th {\n",
       "        vertical-align: top;\n",
       "    }\n",
       "\n",
       "    .dataframe thead th {\n",
       "        text-align: right;\n",
       "    }\n",
       "</style>\n",
       "<table border=\"1\" class=\"dataframe\">\n",
       "  <thead>\n",
       "    <tr style=\"text-align: right;\">\n",
       "      <th></th>\n",
       "      <th>image_url</th>\n",
       "      <th>image_details</th>\n",
       "      <th>label</th>\n",
       "    </tr>\n",
       "  </thead>\n",
       "  <tbody>\n",
       "    <tr>\n",
       "      <th>0</th>\n",
       "      <td>cer_auto_hezhang/train/img000001.jpg</td>\n",
       "      <td>None</td>\n",
       "      <td>None</td>\n",
       "    </tr>\n",
       "    <tr>\n",
       "      <th>1</th>\n",
       "      <td>cer_auto_hezhang/train/img000002.jpg</td>\n",
       "      <td>None</td>\n",
       "      <td>None</td>\n",
       "    </tr>\n",
       "    <tr>\n",
       "      <th>2</th>\n",
       "      <td>cer_auto_hezhang/train/img000003.jpg</td>\n",
       "      <td>None</td>\n",
       "      <td>None</td>\n",
       "    </tr>\n",
       "    <tr>\n",
       "      <th>3</th>\n",
       "      <td>cer_auto_hezhang/train/img000004.jpg</td>\n",
       "      <td>None</td>\n",
       "      <td>None</td>\n",
       "    </tr>\n",
       "    <tr>\n",
       "      <th>4</th>\n",
       "      <td>cer_auto_hezhang/train/img000005.jpg</td>\n",
       "      <td>None</td>\n",
       "      <td>None</td>\n",
       "    </tr>\n",
       "  </tbody>\n",
       "</table>\n",
       "</div>"
      ],
      "text/plain": [
       "                              image_url image_details label\n",
       "0  cer_auto_hezhang/train/img000001.jpg          None  None\n",
       "1  cer_auto_hezhang/train/img000002.jpg          None  None\n",
       "2  cer_auto_hezhang/train/img000003.jpg          None  None\n",
       "3  cer_auto_hezhang/train/img000004.jpg          None  None\n",
       "4  cer_auto_hezhang/train/img000005.jpg          None  None"
      ]
     },
     "execution_count": 6,
     "metadata": {},
     "output_type": "execute_result"
    }
   ],
   "source": [
    "training_dataset.to_pandas_dataframe().head()"
   ]
  },
  {
   "cell_type": "markdown",
   "metadata": {},
   "source": [
    "## Now preparing the run\n",
    "\n",
    "remember to look at https://github.com/swatig007/automlForImages/blob/main/ObjectDetection/AutoMLImage_ObjectDetection_SampleNotebook.ipynb"
   ]
  },
  {
   "cell_type": "code",
   "execution_count": 7,
   "metadata": {},
   "outputs": [
    {
     "name": "stdout",
     "output_type": "stream",
     "text": [
      "Creating a new compute target...\n",
      "InProgress.\n",
      "SucceededProvisioning operation finished, operation \"Succeeded\"\n",
      "Succeeded\n",
      "AmlCompute wait for completion finished\n",
      "\n",
      "Minimum number of nodes requested have been provisioned\n"
     ]
    }
   ],
   "source": [
    "from azureml.core.compute import AmlCompute, ComputeTarget\n",
    "\n",
    "cluster_name = \"gpu-cluster-nc6\"\n",
    "\n",
    "try:\n",
    "    compute_target = ws.compute_targets[cluster_name]\n",
    "    print('Found existing compute target.')\n",
    "except KeyError:\n",
    "    print('Creating a new compute target...')\n",
    "    compute_config = AmlCompute.provisioning_configuration(vm_size='Standard_NC6', \n",
    "                                                           idle_seconds_before_scaledown=1800,\n",
    "                                                           min_nodes=0, \n",
    "                                                           max_nodes=4)\n",
    "\n",
    "    compute_target = ComputeTarget.create(ws, cluster_name, compute_config)\n",
    "    \n",
    "# Can poll for a minimum number of nodes and for a specific timeout.\n",
    "# If no min_node_count is provided, it will use the scale settings for the cluster.\n",
    "compute_target.wait_for_completion(show_output=True, min_node_count=None, timeout_in_minutes=20)"
   ]
  },
  {
   "cell_type": "code",
   "execution_count": 8,
   "metadata": {},
   "outputs": [
    {
     "name": "stdout",
     "output_type": "stream",
     "text": [
      "1.37.0\n"
     ]
    }
   ],
   "source": [
    "import azureml.core\n",
    "print(azureml.core.VERSION)"
   ]
  },
  {
   "cell_type": "code",
   "execution_count": 9,
   "metadata": {},
   "outputs": [],
   "source": [
    "from azureml.train.automl import AutoMLImageConfig\n",
    "from azureml.train.hyperdrive import GridParameterSampling, RandomParameterSampling, BayesianParameterSampling\n",
    "from azureml.train.hyperdrive import BanditPolicy, HyperDriveConfig, PrimaryMetricGoal\n",
    "from azureml.train.hyperdrive import choice, uniform\n",
    "from azureml.automl.core.shared.constants import ImageTask\n",
    "\n",
    "parameter_space = {\n",
    "    'model': choice(\n",
    "        {\n",
    "            'model_name': choice('yolov5'),\n",
    "            'learning_rate': uniform(0.0001, 0.01),\n",
    "            #'model_size': choice('small', 'medium'), # model-specific\n",
    "            'img_size': choice(640, 704, 768), # model-specific\n",
    "        },\n",
    "        {\n",
    "            'model_name': choice('fasterrcnn_resnet50_fpn'),\n",
    "            'learning_rate': uniform(0.0001, 0.001),\n",
    "            #'warmup_cosine_lr_warmup_epochs': choice(0, 3),\n",
    "            'optimizer': choice('sgd', 'adam', 'adamw'),\n",
    "            'min_size': choice(600, 800), # model-specific\n",
    "        }\n",
    "    )\n",
    "}\n",
    "\n",
    "tuning_settings = {\n",
    "    'iterations': 20, \n",
    "    'max_concurrent_iterations': 4, \n",
    "    'hyperparameter_sampling': RandomParameterSampling(parameter_space),  \n",
    "#     'policy': BanditPolicy(evaluation_interval=2, slack_factor=0.2, delay_evaluation=6),\n",
    "}\n",
    "\n",
    "\n",
    "automl_image_config = AutoMLImageConfig(task=ImageTask.IMAGE_OBJECT_DETECTION,\n",
    "                                        compute_target=compute_target,\n",
    "                                        training_data=training_dataset,\n",
    "#                                         primary_metric='mean_average_precision',\n",
    "                                        **tuning_settings)"
   ]
  },
  {
   "cell_type": "code",
   "execution_count": 10,
   "metadata": {},
   "outputs": [],
   "source": [
    "\n",
    "from azureml.core import Experiment\n",
    "\n",
    "experiment_name = 'automl-image-object-detection' \n",
    "experiment = Experiment(ws, name=experiment_name)"
   ]
  },
  {
   "cell_type": "code",
   "execution_count": 11,
   "metadata": {
    "scrolled": false
   },
   "outputs": [
    {
     "name": "stdout",
     "output_type": "stream",
     "text": [
      "Submitting remote run.\n"
     ]
    },
    {
     "data": {
      "text/html": [
       "<table style=\"width:100%\"><tr><th>Experiment</th><th>Id</th><th>Type</th><th>Status</th><th>Details Page</th><th>Docs Page</th></tr><tr><td>automl-image-object-detection</td><td>AutoML_26f6e1b3-0d0e-4a8d-8e82-a6a13e430733</td><td>automl</td><td>NotStarted</td><td><a href=\"https://ml.azure.com/runs/AutoML_26f6e1b3-0d0e-4a8d-8e82-a6a13e430733?wsid=/subscriptions/7b60df94-2d4a-463d-9468-5ed1cce920b2/resourcegroups/cer/workspaces/cer&amp;tid=72f988bf-86f1-41af-91ab-2d7cd011db47\" target=\"_blank\" rel=\"noopener\">Link to Azure Machine Learning studio</a></td><td><a href=\"https://docs.microsoft.com/en-us/python/api/overview/azure/ml/intro?view=azure-ml-py\" target=\"_blank\" rel=\"noopener\">Link to Documentation</a></td></tr></table>"
      ],
      "text/plain": [
       "<IPython.core.display.HTML object>"
      ]
     },
     "metadata": {},
     "output_type": "display_data"
    }
   ],
   "source": [
    "automl_image_run = experiment.submit(automl_image_config)"
   ]
  },
  {
   "cell_type": "code",
   "execution_count": 12,
   "metadata": {
    "scrolled": true
   },
   "outputs": [
    {
     "data": {
      "text/plain": [
       "{'runId': 'AutoML_26f6e1b3-0d0e-4a8d-8e82-a6a13e430733',\n",
       " 'target': 'gpu-cluster-nc6',\n",
       " 'status': 'Completed',\n",
       " 'startTimeUtc': '2022-01-28T07:02:55.521439Z',\n",
       " 'endTimeUtc': '2022-01-28T08:57:40.455691Z',\n",
       " 'services': {},\n",
       " 'properties': {'num_iterations': '1',\n",
       "  'training_type': 'TrainFull',\n",
       "  'acquisition_function': 'EI',\n",
       "  'primary_metric': 'mean_average_precision',\n",
       "  'train_split': '0',\n",
       "  'acquisition_parameter': '0',\n",
       "  'num_cross_validation': None,\n",
       "  'target': 'gpu-cluster-nc6',\n",
       "  'AMLSettingsJsonString': '{\"path\":null,\"name\":\"automl-image-object-detection\",\"subscription_id\":\"7b60df94-2d4a-463d-9468-5ed1cce920b2\",\"resource_group\":\"cer\",\"workspace_name\":\"cer\",\"region\":\"australiaeast\",\"compute_target\":\"gpu-cluster-nc6\",\"spark_service\":null,\"azure_service\":\"remote\",\"many_models\":false,\"pipeline_fetch_max_batch_size\":1,\"enable_batch_run\":true,\"enable_run_restructure\":false,\"start_auxiliary_runs_before_parent_complete\":false,\"enable_code_generation\":false,\"iterations\":1,\"primary_metric\":\"mean_average_precision\",\"task_type\":\"image-object-detection\",\"positive_label\":null,\"data_script\":null,\"test_size\":0.0,\"test_include_predictions_only\":false,\"validation_size\":0.0,\"n_cross_validations\":null,\"y_min\":null,\"y_max\":null,\"num_classes\":null,\"featurization\":\"off\",\"_ignore_package_version_incompatibilities\":false,\"is_timeseries\":false,\"max_cores_per_iteration\":1,\"max_concurrent_iterations\":1,\"iteration_timeout_minutes\":null,\"mem_in_mb\":null,\"enforce_time_on_windows\":false,\"experiment_timeout_minutes\":8640,\"experiment_exit_score\":null,\"whitelist_models\":null,\"blacklist_algos\":[\"TensorFlowDNN\",\"TensorFlowLinearRegressor\"],\"supported_models\":[],\"private_models\":[],\"auto_blacklist\":true,\"blacklist_samples_reached\":false,\"exclude_nan_labels\":true,\"verbosity\":20,\"_debug_log\":\"azureml_automl.log\",\"show_warnings\":false,\"model_explainability\":true,\"service_url\":null,\"sdk_url\":null,\"sdk_packages\":null,\"enable_onnx_compatible_models\":false,\"enable_split_onnx_featurizer_estimator_models\":false,\"vm_type\":\"STANDARD_NC6\",\"telemetry_verbosity\":20,\"send_telemetry\":true,\"enable_dnn\":true,\"scenario\":\"Vision\",\"environment_label\":null,\"save_mlflow\":false,\"enable_categorical_indicators\":false,\"force_text_dnn\":false,\"enable_feature_sweeping\":true,\"enable_early_stopping\":true,\"early_stopping_n_iters\":10,\"arguments\":null,\"dataset_id\":\"e7012566-670c-4e09-8756-ed93fbc53b89\",\"hyperdrive_config\":{\"max_total_jobs\":20,\"max_concurrent_jobs\":4,\"generator_config\":{\"name\":\"RANDOM\",\"parameter_space\":\"{\\\\\"model\\\\\": [\\\\\"choice\\\\\", [[{\\\\\"model_name\\\\\": [\\\\\"choice\\\\\", [[\\\\\"yolov5\\\\\"]]], \\\\\"learning_rate\\\\\": [\\\\\"uniform\\\\\", [0.0001, 0.01]], \\\\\"img_size\\\\\": [\\\\\"choice\\\\\", [[640, 704, 768]]]}, {\\\\\"model_name\\\\\": [\\\\\"choice\\\\\", [[\\\\\"fasterrcnn_resnet50_fpn\\\\\"]]], \\\\\"learning_rate\\\\\": [\\\\\"uniform\\\\\", [0.0001, 0.001]], \\\\\"optimizer\\\\\": [\\\\\"choice\\\\\", [[\\\\\"sgd\\\\\", \\\\\"adam\\\\\", \\\\\"adamw\\\\\"]]], \\\\\"min_size\\\\\": [\\\\\"choice\\\\\", [[600, 800]]]}]]]}\",\"properties\":null},\"policy_config\":null},\"validation_dataset_id\":null,\"run_source\":\"AutoMLImageSDK\",\"metrics\":null,\"enable_metric_confidence\":false,\"enable_ensembling\":false,\"enable_stack_ensembling\":false,\"ensemble_iterations\":null,\"enable_tf\":false,\"enable_subsampling\":false,\"subsample_seed\":null,\"enable_nimbusml\":false,\"enable_streaming\":false,\"force_streaming\":false,\"track_child_runs\":true,\"allowed_private_models\":[],\"label_column_name\":\"label\",\"weight_column_name\":null,\"cv_split_column_names\":null,\"enable_local_managed\":false,\"_local_managed_run_id\":null,\"cost_mode\":1,\"lag_length\":0,\"metric_operation\":\"maximize\",\"preprocess\":false}',\n",
       "  'DataPrepJsonString': '{\\\\\"training_data\\\\\": {\\\\\"datasetId\\\\\": \\\\\"e7012566-670c-4e09-8756-ed93fbc53b89\\\\\"}, \\\\\"datasets\\\\\": 0}',\n",
       "  'EnableSubsampling': 'False',\n",
       "  'runTemplate': 'AutoML',\n",
       "  'azureml.runsource': 'AutoMLImageSDK',\n",
       "  'display_task_type': 'image-object-detection',\n",
       "  'dependencies_versions': '{\"azureml-widgets\": \"1.37.0\", \"azureml-train\": \"1.37.0\", \"azureml-train-restclients-hyperdrive\": \"1.37.0\", \"azureml-train-core\": \"1.37.0\", \"azureml-train-automl\": \"1.37.0\", \"azureml-train-automl-runtime\": \"1.37.0\", \"azureml-train-automl-client\": \"1.37.0\", \"azureml-tensorboard\": \"1.37.0\", \"azureml-telemetry\": \"1.37.0\", \"azureml-sdk\": \"1.37.0\", \"azureml-samples\": \"0+unknown\", \"azureml-responsibleai\": \"1.37.0\", \"azureml-pipeline\": \"1.37.0\", \"azureml-pipeline-steps\": \"1.37.0\", \"azureml-pipeline-core\": \"1.37.0\", \"azureml-opendatasets\": \"1.37.0\", \"azureml-mlflow\": \"1.37.0\", \"azureml-interpret\": \"1.37.0\", \"azureml-inference-server-http\": \"0.4.2\", \"azureml-explain-model\": \"1.37.0\", \"azureml-defaults\": \"1.37.0\", \"azureml-dataset-runtime\": \"1.37.0\", \"azureml-dataprep\": \"2.25.0\", \"azureml-dataprep-rslex\": \"2.1.0\", \"azureml-dataprep-native\": \"38.0.0\", \"azureml-datadrift\": \"1.37.0\", \"azureml-core\": \"1.37.0\", \"azureml-contrib-services\": \"1.37.0\", \"azureml-contrib-server\": \"1.37.0\", \"azureml-contrib-reinforcementlearning\": \"1.37.0\", \"azureml-contrib-pipeline-steps\": \"1.37.0\", \"azureml-contrib-notebook\": \"1.37.0\", \"azureml-contrib-fairness\": \"1.37.0\", \"azureml-contrib-dataset\": \"1.37.0\", \"azureml-contrib-automl-pipeline-steps\": \"1.37.0\", \"azureml-cli-common\": \"1.37.0\", \"azureml-automl-runtime\": \"1.37.0\", \"azureml-automl-dnn-nlp\": \"1.37.0\", \"azureml-automl-core\": \"1.37.0\", \"azureml-accel-models\": \"1.37.0\"}',\n",
       "  '_aml_system_scenario_identification': 'Remote.Parent',\n",
       "  'ClientType': 'SDK',\n",
       "  'environment_cpu_name': 'AzureML-AutoML-DNN-Vision-GPU',\n",
       "  'environment_cpu_label': 'Latest',\n",
       "  'environment_gpu_name': 'AzureML-AutoML-DNN-Vision-GPU',\n",
       "  'environment_gpu_label': 'Latest',\n",
       "  'root_attribution': 'AutoMLImageSDK',\n",
       "  'attribution': 'AutoML',\n",
       "  'Orchestrator': 'AutoML',\n",
       "  'CancelUri': 'https://australiaeast.api.azureml.ms/jasmine/v1.0/subscriptions/7b60df94-2d4a-463d-9468-5ed1cce920b2/resourceGroups/cer/providers/Microsoft.MachineLearningServices/workspaces/cer/experimentids/fab3951a-eda2-46f9-bddb-3ae3e6fb0e11/cancel/AutoML_26f6e1b3-0d0e-4a8d-8e82-a6a13e430733',\n",
       "  'azureml.git.repository_uri': 'https://github.com/Azure/solar.git',\n",
       "  'mlflow.source.git.repoURL': 'https://github.com/Azure/solar.git',\n",
       "  'azureml.git.branch': 'hezhang',\n",
       "  'mlflow.source.git.branch': 'hezhang',\n",
       "  'azureml.git.commit': 'f0929474a604c88eb36691c917df2e66c061d7ed',\n",
       "  'mlflow.source.git.commit': 'f0929474a604c88eb36691c917df2e66c061d7ed',\n",
       "  'azureml.git.dirty': 'True',\n",
       "  'ClientSdkVersion': '1.38.0',\n",
       "  'snapshotId': '00000000-0000-0000-0000-000000000000'},\n",
       " 'inputDatasets': [{'dataset': {'id': 'e7012566-670c-4e09-8756-ed93fbc53b89'}, 'consumptionDetails': {'type': 'RunInput', 'inputName': 'training_data', 'mechanism': 'Direct'}}],\n",
       " 'outputDatasets': [],\n",
       " 'logFiles': {},\n",
       " 'submittedBy': 'He Zhang'}"
      ]
     },
     "execution_count": 12,
     "metadata": {},
     "output_type": "execute_result"
    }
   ],
   "source": [
    "automl_image_run.wait_for_completion(wait_post_processing=True)"
   ]
  },
  {
   "cell_type": "code",
   "execution_count": null,
   "metadata": {},
   "outputs": [],
   "source": [
    "## register model by run id"
   ]
  },
  {
   "cell_type": "code",
   "execution_count": null,
   "metadata": {},
   "outputs": [],
   "source": [
    "# best_child_run = ws.get_run('AutoML_a1f17867-2f0c-40e2-9753-068e663ca84e_HD_0')\n",
    "best_child_run = automl_image_run.get_best_child()\n",
    "model_name = best_child_run.properties['model_name']\n",
    "model = best_child_run.register_model(model_name = model_name, model_path='outputs/model.pt')"
   ]
  },
  {
   "cell_type": "markdown",
   "metadata": {},
   "source": [
    "## register model"
   ]
  },
  {
   "cell_type": "code",
   "execution_count": null,
   "metadata": {},
   "outputs": [],
   "source": [
    "# best_child_run = automl_image_run.get_best_child()\n",
    "# model_name = best_child_run.properties['model_name']\n",
    "# model = best_child_run.register_model(model_name = model_name, model_path='outputs/model.pt')"
   ]
  },
  {
   "cell_type": "markdown",
   "metadata": {},
   "source": [
    "### Run till here............."
   ]
  },
  {
   "cell_type": "markdown",
   "metadata": {},
   "source": [
    "## deploy model to AKS\n"
   ]
  },
  {
   "cell_type": "code",
   "execution_count": null,
   "metadata": {},
   "outputs": [],
   "source": [
    "from azureml.core.compute import ComputeTarget, AksCompute\n",
    "from azureml.exceptions import ComputeTargetException\n",
    "\n",
    "# Choose a name for your cluster\n",
    "aks_name = \"cluster-aks-gpu\"\n",
    "\n",
    "# Check to see if the cluster already exists\n",
    "try:\n",
    "    aks_target = ComputeTarget(workspace=ws, name=aks_name)\n",
    "    print('Found existing compute target')\n",
    "except ComputeTargetException:\n",
    "    print('Creating a new compute target...')\n",
    "    # Provision AKS cluster with GPU machine\n",
    "    prov_config = AksCompute.provisioning_configuration(vm_size=\"STANDARD_NC6\", \n",
    "                                                        location=\"australiaeast\")\n",
    "    # Create the cluster\n",
    "    aks_target = ComputeTarget.create(workspace=ws, \n",
    "                                      name=aks_name, \n",
    "                                      provisioning_configuration=prov_config)\n",
    "    aks_target.wait_for_completion(show_output=True)"
   ]
  },
  {
   "cell_type": "markdown",
   "metadata": {},
   "source": [
    "## local deploy"
   ]
  },
  {
   "cell_type": "code",
   "execution_count": null,
   "metadata": {},
   "outputs": [],
   "source": [
    "from azureml.core.model import InferenceConfig\n",
    "\n",
    "best_child_run.download_file('outputs/scoring_file_v_1_0_0.py', output_file_path='score.py')\n",
    "environment = best_child_run.get_environment()\n",
    "inference_config = InferenceConfig(entry_script='score.py', environment=environment)"
   ]
  },
  {
   "cell_type": "markdown",
   "metadata": {},
   "source": [
    "## build local container"
   ]
  },
  {
   "cell_type": "code",
   "execution_count": null,
   "metadata": {},
   "outputs": [],
   "source": [
    "from azureml.core.webservice import LocalWebservice\n",
    "from azureml.core import Model\n",
    "\n",
    "# This is optional, if not provided Docker will choose a random unused port.\n",
    "deployment_config = LocalWebservice.deploy_configuration(port=5002)\n",
    "\n",
    "local_service = Model.deploy(ws, \"solarfind\", [model], inference_config, deployment_config)\n",
    "\n",
    "local_service.wait_for_deployment()"
   ]
  },
  {
   "cell_type": "markdown",
   "metadata": {},
   "source": [
    "Workaround for deploy"
   ]
  },
  {
   "cell_type": "code",
   "execution_count": null,
   "metadata": {},
   "outputs": [],
   "source": [
    "!az login --use-device-code"
   ]
  },
  {
   "cell_type": "code",
   "execution_count": null,
   "metadata": {},
   "outputs": [],
   "source": [
    "!az acr login -n ec0f485ba9a348798fe7130134d9d052"
   ]
  },
  {
   "cell_type": "code",
   "execution_count": null,
   "metadata": {},
   "outputs": [],
   "source": [
    "!docker tag solarfind ec0f485ba9a348798fe7130134d9d052.azurecr.io/solarfind:latest"
   ]
  },
  {
   "cell_type": "code",
   "execution_count": null,
   "metadata": {},
   "outputs": [],
   "source": [
    "!docker push ec0f485ba9a348798fe7130134d9d052.azurecr.io/solarfind:latest"
   ]
  }
 ],
 "metadata": {
  "kernel_info": {
   "name": "python3-azureml"
  },
  "kernelspec": {
   "display_name": "Python 3.6 - AzureML",
   "language": "python",
   "name": "python3-azureml"
  },
  "language_info": {
   "codemirror_mode": {
    "name": "ipython",
    "version": 3
   },
   "file_extension": ".py",
   "mimetype": "text/x-python",
   "name": "python",
   "nbconvert_exporter": "python",
   "pygments_lexer": "ipython3",
   "version": "3.6.9"
  },
  "nteract": {
   "version": "nteract-front-end@1.0.0"
  }
 },
 "nbformat": 4,
 "nbformat_minor": 4
}
