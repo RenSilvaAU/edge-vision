{
 "cells": [
  {
   "cell_type": "markdown",
   "metadata": {},
   "source": [
    "# Auto ML for Images\n",
    "\n",
    "This notebook will show you step by step how to train and deploy an AutoML for images model. \n",
    "\n",
    "We will cover data preparation, model training, evaluation, and deployment. Let's get started!\n",
    "\n",
    "This notebook is based on this [Tutorial: Train an object detection model with AutoML and Python](https://learn.microsoft.com/en-au/azure/machine-learning/tutorial-auto-train-image-models?view=azureml-api-2&tabs=python)."
   ]
  },
  {
   "cell_type": "markdown",
   "metadata": {},
   "source": [
    "## Experiment setup\n",
    "\n",
    "Use Azure Machine learning to track experiments"
   ]
  },
  {
   "cell_type": "code",
   "execution_count": 1,
   "metadata": {},
   "outputs": [],
   "source": [
    "exp_name = \"coffee-cup-detection\""
   ]
  },
  {
   "cell_type": "markdown",
   "metadata": {},
   "source": [
    "## Visualization"
   ]
  },
  {
   "cell_type": "code",
   "execution_count": 2,
   "metadata": {},
   "outputs": [],
   "source": [
    "# %pip install --upgrade matplotlib"
   ]
  },
  {
   "cell_type": "code",
   "execution_count": 3,
   "metadata": {},
   "outputs": [],
   "source": [
    "%matplotlib inline\n",
    "import matplotlib.pyplot as plt\n",
    "import matplotlib.image as mpimg\n",
    "import matplotlib.patches as patches\n",
    "from PIL import Image as pil_image\n",
    "import numpy as np\n",
    "import json\n",
    "import os\n",
    "\n",
    "def plot_ground_truth_boxes(image_file, ground_truth_boxes):\n",
    "    # Display the image\n",
    "    plt.figure()\n",
    "    img_np = mpimg.imread(image_file)\n",
    "    img = pil_image.fromarray(img_np.astype(\"uint8\"), \"RGB\")\n",
    "    img_w, img_h = img.size\n",
    "\n",
    "    fig,ax = plt.subplots(figsize=(12, 16))\n",
    "    ax.imshow(img_np)\n",
    "    ax.axis(\"off\")\n",
    "\n",
    "    label_to_color_mapping = {}\n",
    "\n",
    "    print(ground_truth_boxes)\n",
    "\n",
    "    for gt in ground_truth_boxes:\n",
    "        label = gt[\"label\"]\n",
    "\n",
    "        xmin, ymin, xmax, ymax =  gt[\"topX\"], gt[\"topY\"], gt[\"bottomX\"], gt[\"bottomY\"]\n",
    "        topleft_x, topleft_y = img_w * xmin, img_h * ymin\n",
    "        width, height = img_w * (xmax - xmin), img_h * (ymax - ymin)\n",
    "\n",
    "        if label in label_to_color_mapping:\n",
    "            color = label_to_color_mapping[label]\n",
    "        else:\n",
    "            # Generate a random color. If you want to use a specific color, you can use something like \"red\".\n",
    "            color = np.random.rand(3)\n",
    "            label_to_color_mapping[label] = color\n",
    "\n",
    "        # Display bounding box\n",
    "        rect = patches.Rectangle((topleft_x, topleft_y), width, height,\n",
    "                                 linewidth=2, edgecolor=color, facecolor=\"none\")\n",
    "        ax.add_patch(rect)\n",
    "\n",
    "        # Display label\n",
    "        ax.text(topleft_x, topleft_y - 10, label, color=color, fontsize=20)\n",
    "\n",
    "    plt.show()\n",
    "\n",
    "def plot_ground_truth_boxes_jsonl(image_file, jsonl_file):\n",
    "    image_base_name = os.path.basename(image_file)\n",
    "    ground_truth_data_found = False\n",
    "    with open(jsonl_file) as fp:\n",
    "        for line in fp.readlines():\n",
    "            line_json = json.loads(line)\n",
    "            filename = line_json[\"image_url\"]\n",
    "            if image_base_name in filename:\n",
    "                ground_truth_data_found = True\n",
    "                plot_ground_truth_boxes(image_file, line_json[\"label\"])\n",
    "                break\n",
    "    if not ground_truth_data_found:\n",
    "        print(\"Unable to find ground truth information for image: {}\".format(image_file))"
   ]
  },
  {
   "cell_type": "code",
   "execution_count": 4,
   "metadata": {},
   "outputs": [
    {
     "name": "stdout",
     "output_type": "stream",
     "text": [
      "Unable to find ground truth information for image: ./data/images/2c359fcd7c83a987.jpg\n"
     ]
    }
   ],
   "source": [
    "image_file = \"./data/images/2c359fcd7c83a987.jpg\"\n",
    "jsonl_file = \"./data/train_annotations.jsonl\"\n",
    "\n",
    "plot_ground_truth_boxes_jsonl(image_file, jsonl_file)"
   ]
  },
  {
   "cell_type": "code",
   "execution_count": 5,
   "metadata": {},
   "outputs": [
    {
     "name": "stdout",
     "output_type": "stream",
     "text": [
      "Collecting azure-ai-ml\n",
      "  Downloading azure_ai_ml-1.22.3-py3-none-any.whl.metadata (34 kB)\n",
      "Requirement already satisfied: pyyaml>=5.1.0 in /usr/local/lib/python3.12/site-packages (from azure-ai-ml) (6.0.2)\n",
      "Collecting msrest>=0.6.18 (from azure-ai-ml)\n",
      "  Downloading msrest-0.7.1-py3-none-any.whl.metadata (21 kB)\n",
      "Collecting azure-core>=1.23.0 (from azure-ai-ml)\n",
      "  Downloading azure_core-1.32.0-py3-none-any.whl.metadata (39 kB)\n",
      "Collecting azure-mgmt-core>=1.3.0 (from azure-ai-ml)\n",
      "  Downloading azure_mgmt_core-1.5.0-py3-none-any.whl.metadata (4.3 kB)\n",
      "Collecting marshmallow>=3.5 (from azure-ai-ml)\n",
      "  Downloading marshmallow-3.23.1-py3-none-any.whl.metadata (7.5 kB)\n",
      "Requirement already satisfied: jsonschema>=4.0.0 in /usr/local/lib/python3.12/site-packages (from azure-ai-ml) (4.23.0)\n",
      "Collecting tqdm (from azure-ai-ml)\n",
      "  Downloading tqdm-4.67.0-py3-none-any.whl.metadata (57 kB)\n",
      "Collecting strictyaml (from azure-ai-ml)\n",
      "  Downloading strictyaml-1.7.3-py3-none-any.whl.metadata (11 kB)\n",
      "Collecting colorama (from azure-ai-ml)\n",
      "  Downloading colorama-0.4.6-py2.py3-none-any.whl.metadata (17 kB)\n",
      "Collecting pyjwt (from azure-ai-ml)\n",
      "  Downloading PyJWT-2.10.0-py3-none-any.whl.metadata (4.0 kB)\n",
      "Collecting azure-storage-blob>=12.10.0 (from azure-ai-ml)\n",
      "  Downloading azure_storage_blob-12.24.0-py3-none-any.whl.metadata (26 kB)\n",
      "Collecting azure-storage-file-share (from azure-ai-ml)\n",
      "  Downloading azure_storage_file_share-12.20.0-py3-none-any.whl.metadata (49 kB)\n",
      "Collecting azure-storage-file-datalake>=12.2.0 (from azure-ai-ml)\n",
      "  Downloading azure_storage_file_datalake-12.18.0-py3-none-any.whl.metadata (16 kB)\n",
      "Requirement already satisfied: pydash>=6.0.0 in /usr/local/lib/python3.12/site-packages (from azure-ai-ml) (8.0.4)\n",
      "Collecting isodate (from azure-ai-ml)\n",
      "  Downloading isodate-0.7.2-py3-none-any.whl.metadata (11 kB)\n",
      "Collecting azure-common>=1.1 (from azure-ai-ml)\n",
      "  Downloading azure_common-1.1.28-py2.py3-none-any.whl.metadata (5.0 kB)\n",
      "Requirement already satisfied: typing-extensions in /usr/local/lib/python3.12/site-packages (from azure-ai-ml) (4.12.2)\n",
      "Collecting opencensus-ext-azure (from azure-ai-ml)\n",
      "  Downloading opencensus_ext_azure-1.1.13-py2.py3-none-any.whl.metadata (16 kB)\n",
      "Collecting opencensus-ext-logging (from azure-ai-ml)\n",
      "  Downloading opencensus_ext_logging-0.1.1-py2.py3-none-any.whl.metadata (2.3 kB)\n",
      "Requirement already satisfied: requests>=2.21.0 in /usr/local/lib/python3.12/site-packages (from azure-core>=1.23.0->azure-ai-ml) (2.32.3)\n",
      "Requirement already satisfied: six>=1.11.0 in /usr/local/lib/python3.12/site-packages (from azure-core>=1.23.0->azure-ai-ml) (1.16.0)\n",
      "Collecting cryptography>=2.1.4 (from azure-storage-blob>=12.10.0->azure-ai-ml)\n",
      "  Downloading cryptography-43.0.3-cp39-abi3-manylinux_2_28_aarch64.whl.metadata (5.4 kB)\n",
      "Requirement already satisfied: attrs>=22.2.0 in /usr/local/lib/python3.12/site-packages (from jsonschema>=4.0.0->azure-ai-ml) (24.2.0)\n",
      "Requirement already satisfied: jsonschema-specifications>=2023.03.6 in /usr/local/lib/python3.12/site-packages (from jsonschema>=4.0.0->azure-ai-ml) (2024.10.1)\n",
      "Requirement already satisfied: referencing>=0.28.4 in /usr/local/lib/python3.12/site-packages (from jsonschema>=4.0.0->azure-ai-ml) (0.35.1)\n",
      "Requirement already satisfied: rpds-py>=0.7.1 in /usr/local/lib/python3.12/site-packages (from jsonschema>=4.0.0->azure-ai-ml) (0.21.0)\n",
      "Requirement already satisfied: packaging>=17.0 in /usr/local/lib/python3.12/site-packages (from marshmallow>=3.5->azure-ai-ml) (24.2)\n",
      "Requirement already satisfied: certifi>=2017.4.17 in /usr/local/lib/python3.12/site-packages (from msrest>=0.6.18->azure-ai-ml) (2024.8.30)\n",
      "Collecting requests-oauthlib>=0.5.0 (from msrest>=0.6.18->azure-ai-ml)\n",
      "  Downloading requests_oauthlib-2.0.0-py2.py3-none-any.whl.metadata (11 kB)\n",
      "Collecting azure-identity<2.0.0,>=1.5.0 (from opencensus-ext-azure->azure-ai-ml)\n",
      "  Downloading azure_identity-1.19.0-py3-none-any.whl.metadata (80 kB)\n",
      "Collecting opencensus<1.0.0,>=0.11.4 (from opencensus-ext-azure->azure-ai-ml)\n",
      "  Downloading opencensus-0.11.4-py2.py3-none-any.whl.metadata (12 kB)\n",
      "Requirement already satisfied: psutil>=5.6.3 in /usr/local/lib/python3.12/site-packages (from opencensus-ext-azure->azure-ai-ml) (6.1.0)\n",
      "Requirement already satisfied: python-dateutil>=2.6.0 in /usr/local/lib/python3.12/site-packages (from strictyaml->azure-ai-ml) (2.9.0.post0)\n",
      "Collecting msal>=1.30.0 (from azure-identity<2.0.0,>=1.5.0->opencensus-ext-azure->azure-ai-ml)\n",
      "  Downloading msal-1.31.1-py3-none-any.whl.metadata (11 kB)\n",
      "Collecting msal-extensions>=1.2.0 (from azure-identity<2.0.0,>=1.5.0->opencensus-ext-azure->azure-ai-ml)\n",
      "  Downloading msal_extensions-1.2.0-py3-none-any.whl.metadata (7.6 kB)\n",
      "Requirement already satisfied: cffi>=1.12 in /usr/local/lib/python3.12/site-packages (from cryptography>=2.1.4->azure-storage-blob>=12.10.0->azure-ai-ml) (1.17.1)\n",
      "Collecting opencensus-context>=0.1.3 (from opencensus<1.0.0,>=0.11.4->opencensus-ext-azure->azure-ai-ml)\n",
      "  Downloading opencensus_context-0.1.3-py2.py3-none-any.whl.metadata (3.3 kB)\n",
      "Collecting google-api-core<3.0.0,>=1.0.0 (from opencensus<1.0.0,>=0.11.4->opencensus-ext-azure->azure-ai-ml)\n",
      "  Downloading google_api_core-2.23.0-py3-none-any.whl.metadata (3.0 kB)\n",
      "Requirement already satisfied: charset-normalizer<4,>=2 in /usr/local/lib/python3.12/site-packages (from requests>=2.21.0->azure-core>=1.23.0->azure-ai-ml) (3.4.0)\n",
      "Requirement already satisfied: idna<4,>=2.5 in /usr/local/lib/python3.12/site-packages (from requests>=2.21.0->azure-core>=1.23.0->azure-ai-ml) (3.10)\n",
      "Requirement already satisfied: urllib3<3,>=1.21.1 in /usr/local/lib/python3.12/site-packages (from requests>=2.21.0->azure-core>=1.23.0->azure-ai-ml) (2.2.3)\n",
      "Collecting oauthlib>=3.0.0 (from requests-oauthlib>=0.5.0->msrest>=0.6.18->azure-ai-ml)\n",
      "  Downloading oauthlib-3.2.2-py3-none-any.whl.metadata (7.5 kB)\n",
      "Requirement already satisfied: pycparser in /usr/local/lib/python3.12/site-packages (from cffi>=1.12->cryptography>=2.1.4->azure-storage-blob>=12.10.0->azure-ai-ml) (2.22)\n",
      "Collecting googleapis-common-protos<2.0.dev0,>=1.56.2 (from google-api-core<3.0.0,>=1.0.0->opencensus<1.0.0,>=0.11.4->opencensus-ext-azure->azure-ai-ml)\n",
      "  Downloading googleapis_common_protos-1.66.0-py2.py3-none-any.whl.metadata (1.5 kB)\n",
      "Collecting protobuf!=3.20.0,!=3.20.1,!=4.21.0,!=4.21.1,!=4.21.2,!=4.21.3,!=4.21.4,!=4.21.5,<6.0.0.dev0,>=3.19.5 (from google-api-core<3.0.0,>=1.0.0->opencensus<1.0.0,>=0.11.4->opencensus-ext-azure->azure-ai-ml)\n",
      "  Downloading protobuf-5.28.3-cp38-abi3-manylinux2014_aarch64.whl.metadata (592 bytes)\n",
      "Collecting proto-plus<2.0.0dev,>=1.22.3 (from google-api-core<3.0.0,>=1.0.0->opencensus<1.0.0,>=0.11.4->opencensus-ext-azure->azure-ai-ml)\n",
      "  Downloading proto_plus-1.25.0-py3-none-any.whl.metadata (2.2 kB)\n",
      "Collecting google-auth<3.0.dev0,>=2.14.1 (from google-api-core<3.0.0,>=1.0.0->opencensus<1.0.0,>=0.11.4->opencensus-ext-azure->azure-ai-ml)\n",
      "  Downloading google_auth-2.36.0-py2.py3-none-any.whl.metadata (4.7 kB)\n",
      "Collecting portalocker<3,>=1.4 (from msal-extensions>=1.2.0->azure-identity<2.0.0,>=1.5.0->opencensus-ext-azure->azure-ai-ml)\n",
      "  Downloading portalocker-2.10.1-py3-none-any.whl.metadata (8.5 kB)\n",
      "Requirement already satisfied: cachetools<6.0,>=2.0.0 in /usr/local/lib/python3.12/site-packages (from google-auth<3.0.dev0,>=2.14.1->google-api-core<3.0.0,>=1.0.0->opencensus<1.0.0,>=0.11.4->opencensus-ext-azure->azure-ai-ml) (5.5.0)\n",
      "Collecting pyasn1-modules>=0.2.1 (from google-auth<3.0.dev0,>=2.14.1->google-api-core<3.0.0,>=1.0.0->opencensus<1.0.0,>=0.11.4->opencensus-ext-azure->azure-ai-ml)\n",
      "  Downloading pyasn1_modules-0.4.1-py3-none-any.whl.metadata (3.5 kB)\n",
      "Collecting rsa<5,>=3.1.4 (from google-auth<3.0.dev0,>=2.14.1->google-api-core<3.0.0,>=1.0.0->opencensus<1.0.0,>=0.11.4->opencensus-ext-azure->azure-ai-ml)\n",
      "  Downloading rsa-4.9-py3-none-any.whl.metadata (4.2 kB)\n",
      "Collecting pyasn1<0.7.0,>=0.4.6 (from pyasn1-modules>=0.2.1->google-auth<3.0.dev0,>=2.14.1->google-api-core<3.0.0,>=1.0.0->opencensus<1.0.0,>=0.11.4->opencensus-ext-azure->azure-ai-ml)\n",
      "  Downloading pyasn1-0.6.1-py3-none-any.whl.metadata (8.4 kB)\n",
      "Downloading azure_ai_ml-1.22.3-py3-none-any.whl (12.3 MB)\n",
      "\u001b[2K   \u001b[90m━━━━━━━━━━━━━━━━━━━━━━━━━━━━━━━━━━━━━━━━\u001b[0m \u001b[32m12.3/12.3 MB\u001b[0m \u001b[31m6.1 MB/s\u001b[0m eta \u001b[36m0:00:00\u001b[0ma \u001b[36m0:00:01\u001b[0m\n",
      "\u001b[?25hDownloading azure_common-1.1.28-py2.py3-none-any.whl (14 kB)\n",
      "Downloading azure_core-1.32.0-py3-none-any.whl (198 kB)\n",
      "Downloading azure_mgmt_core-1.5.0-py3-none-any.whl (30 kB)\n",
      "Downloading azure_storage_blob-12.24.0-py3-none-any.whl (408 kB)\n",
      "Downloading azure_storage_file_datalake-12.18.0-py3-none-any.whl (258 kB)\n",
      "Downloading isodate-0.7.2-py3-none-any.whl (22 kB)\n",
      "Downloading marshmallow-3.23.1-py3-none-any.whl (49 kB)\n",
      "Downloading msrest-0.7.1-py3-none-any.whl (85 kB)\n",
      "Downloading azure_storage_file_share-12.20.0-py3-none-any.whl (286 kB)\n",
      "Downloading colorama-0.4.6-py2.py3-none-any.whl (25 kB)\n",
      "Downloading opencensus_ext_azure-1.1.13-py2.py3-none-any.whl (43 kB)\n",
      "Downloading opencensus_ext_logging-0.1.1-py2.py3-none-any.whl (4.0 kB)\n",
      "Downloading PyJWT-2.10.0-py3-none-any.whl (23 kB)\n",
      "Downloading strictyaml-1.7.3-py3-none-any.whl (123 kB)\n",
      "Downloading tqdm-4.67.0-py3-none-any.whl (78 kB)\n",
      "Downloading azure_identity-1.19.0-py3-none-any.whl (187 kB)\n",
      "Downloading cryptography-43.0.3-cp39-abi3-manylinux_2_28_aarch64.whl (3.7 MB)\n",
      "\u001b[2K   \u001b[90m━━━━━━━━━━━━━━━━━━━━━━━━━━━━━━━━━━━━━━━━\u001b[0m \u001b[32m3.7/3.7 MB\u001b[0m \u001b[31m6.8 MB/s\u001b[0m eta \u001b[36m0:00:00\u001b[0ma \u001b[36m0:00:01\u001b[0m\n",
      "\u001b[?25hDownloading opencensus-0.11.4-py2.py3-none-any.whl (128 kB)\n",
      "Downloading requests_oauthlib-2.0.0-py2.py3-none-any.whl (24 kB)\n",
      "Downloading google_api_core-2.23.0-py3-none-any.whl (156 kB)\n",
      "Downloading msal-1.31.1-py3-none-any.whl (113 kB)\n",
      "Downloading msal_extensions-1.2.0-py3-none-any.whl (19 kB)\n",
      "Downloading oauthlib-3.2.2-py3-none-any.whl (151 kB)\n",
      "Downloading opencensus_context-0.1.3-py2.py3-none-any.whl (5.1 kB)\n",
      "Downloading google_auth-2.36.0-py2.py3-none-any.whl (209 kB)\n",
      "Downloading googleapis_common_protos-1.66.0-py2.py3-none-any.whl (221 kB)\n",
      "Downloading portalocker-2.10.1-py3-none-any.whl (18 kB)\n",
      "Downloading proto_plus-1.25.0-py3-none-any.whl (50 kB)\n",
      "Downloading protobuf-5.28.3-cp38-abi3-manylinux2014_aarch64.whl (316 kB)\n",
      "Downloading pyasn1_modules-0.4.1-py3-none-any.whl (181 kB)\n",
      "Downloading rsa-4.9-py3-none-any.whl (34 kB)\n",
      "Downloading pyasn1-0.6.1-py3-none-any.whl (83 kB)\n",
      "Installing collected packages: opencensus-context, azure-common, tqdm, pyjwt, pyasn1, protobuf, portalocker, oauthlib, marshmallow, isodate, colorama, strictyaml, rsa, requests-oauthlib, pyasn1-modules, proto-plus, googleapis-common-protos, cryptography, azure-core, msrest, google-auth, azure-storage-file-share, azure-storage-blob, azure-mgmt-core, msal, google-api-core, azure-storage-file-datalake, opencensus, msal-extensions, opencensus-ext-logging, azure-identity, opencensus-ext-azure, azure-ai-ml\n",
      "Successfully installed azure-ai-ml-1.22.3 azure-common-1.1.28 azure-core-1.32.0 azure-identity-1.19.0 azure-mgmt-core-1.5.0 azure-storage-blob-12.24.0 azure-storage-file-datalake-12.18.0 azure-storage-file-share-12.20.0 colorama-0.4.6 cryptography-43.0.3 google-api-core-2.23.0 google-auth-2.36.0 googleapis-common-protos-1.66.0 isodate-0.7.2 marshmallow-3.23.1 msal-1.31.1 msal-extensions-1.2.0 msrest-0.7.1 oauthlib-3.2.2 opencensus-0.11.4 opencensus-context-0.1.3 opencensus-ext-azure-1.1.13 opencensus-ext-logging-0.1.1 portalocker-2.10.1 proto-plus-1.25.0 protobuf-5.28.3 pyasn1-0.6.1 pyasn1-modules-0.4.1 pyjwt-2.10.0 requests-oauthlib-2.0.0 rsa-4.9 strictyaml-1.7.3 tqdm-4.67.0\n",
      "\u001b[33mWARNING: Running pip as the 'root' user can result in broken permissions and conflicting behaviour with the system package manager, possibly rendering your system unusable.It is recommended to use a virtual environment instead: https://pip.pypa.io/warnings/venv. Use the --root-user-action option if you know what you are doing and want to suppress this warning.\u001b[0m\u001b[33m\n",
      "\u001b[0m\n",
      "\u001b[1m[\u001b[0m\u001b[34;49mnotice\u001b[0m\u001b[1;39;49m]\u001b[0m\u001b[39;49m A new release of pip is available: \u001b[0m\u001b[31;49m24.2\u001b[0m\u001b[39;49m -> \u001b[0m\u001b[32;49m24.3.1\u001b[0m\n",
      "\u001b[1m[\u001b[0m\u001b[34;49mnotice\u001b[0m\u001b[1;39;49m]\u001b[0m\u001b[39;49m To update, run: \u001b[0m\u001b[32;49mpip install --upgrade pip\u001b[0m\n",
      "Note: you may need to restart the kernel to use updated packages.\n"
     ]
    }
   ],
   "source": [
    "%pip install azure-ai-ml "
   ]
  },
  {
   "cell_type": "code",
   "execution_count": 13,
   "metadata": {},
   "outputs": [
    {
     "name": "stdout",
     "output_type": "stream",
     "text": [
      "MLClient created successfully\n"
     ]
    }
   ],
   "source": [
    "from azure.identity import DefaultAzureCredential\n",
    "from azure.ai.ml import MLClient\n",
    "import json\n",
    "\n",
    "# Load the config.json file\n",
    "with open(\"config.json\") as f:\n",
    "    config = json.load(f)\n",
    "\n",
    "# Authenticate and create MLClient\n",
    "credential = DefaultAzureCredential()\n",
    "ml_client = MLClient(\n",
    "    credential=credential,\n",
    "    subscription_id=config[\"subscription_id\"],\n",
    "    resource_group_name=config[\"resource_group\"],\n",
    "    workspace_name=config[\"workspace_name\"]\n",
    ")\n",
    "\n",
    "print(\"MLClient created successfully\")\n"
   ]
  },
  {
   "cell_type": "code",
   "execution_count": 14,
   "metadata": {},
   "outputs": [
    {
     "name": "stderr",
     "output_type": "stream",
     "text": [
      "\u001b[32mUploading data (33.72 MBs):  51%|█████     | 17264123/33720679 [00:10<00:13, 1216942.37it/s]Retrying due to transient client side error HTTPSConnectionPool(host='westus2-0.in.applicationinsights.azure.com', port=443): Max retries exceeded with url: /v2.1/track (Caused by NameResolutionError(\"<urllib3.connection.HTTPSConnection object at 0xffff7dc70590>: Failed to resolve 'westus2-0.in.applicationinsights.azure.com' ([Errno -3] Temporary failure in name resolution)\")).\n",
      "\u001b[32mUploading data (33.72 MBs): 100%|██████████| 33720679/33720679 [00:34<00:00, 975847.13it/s] \n",
      "\u001b[39m\n",
      "\n"
     ]
    },
    {
     "name": "stdout",
     "output_type": "stream",
     "text": [
      "creation_context:\n",
      "  created_at: '2024-11-20T23:04:35.612142+00:00'\n",
      "  created_by: Ren Silva\n",
      "  created_by_type: User\n",
      "  last_modified_at: '2024-11-20T23:04:35.620916+00:00'\n",
      "description: Coffee Cup Object detection\n",
      "id: /subscriptions/691b572d-8686-481a-9757-4befaa7f9526/resourceGroups/coffeecup/providers/Microsoft.MachineLearningServices/workspaces/cofeecup/data/coffe-cup-detection/versions/1\n",
      "name: coffe-cup-detection\n",
      "path: azureml://subscriptions/691b572d-8686-481a-9757-4befaa7f9526/resourcegroups/coffeecup/workspaces/cofeecup/datastores/workspaceblobstore/paths/LocalUpload/36e7dbf942ac463c9261eea9ec886e94/data/\n",
      "properties: {}\n",
      "tags: {}\n",
      "type: uri_folder\n",
      "version: '1'\n",
      "\n",
      "\n",
      "Path to folder in Blob Storage:\n",
      "azureml://subscriptions/691b572d-8686-481a-9757-4befaa7f9526/resourcegroups/coffeecup/workspaces/cofeecup/datastores/workspaceblobstore/paths/LocalUpload/36e7dbf942ac463c9261eea9ec886e94/data/\n"
     ]
    }
   ],
   "source": [
    "# Uploading image files by creating a 'data asset URI FOLDER':\n",
    "\n",
    "from azure.ai.ml.entities import Data\n",
    "from azure.ai.ml.constants import AssetTypes, InputOutputModes\n",
    "from azure.ai.ml import Input\n",
    "\n",
    "my_data = Data(\n",
    "    path=\"./data\",\n",
    "    type=AssetTypes.URI_FOLDER,\n",
    "    description=\"Coffee Cup Object detection\",\n",
    "    name=\"coffe-cup-detection\",\n",
    ")\n",
    "\n",
    "uri_folder_data_asset = ml_client.data.create_or_update(my_data)\n",
    "\n",
    "print(uri_folder_data_asset)\n",
    "print(\"\")\n",
    "print(\"Path to folder in Blob Storage:\")\n",
    "print(uri_folder_data_asset.path)"
   ]
  }
 ],
 "metadata": {
  "kernelspec": {
   "display_name": "edge-microhack",
   "language": "python",
   "name": "python3"
  },
  "language_info": {
   "codemirror_mode": {
    "name": "ipython",
    "version": 3
   },
   "file_extension": ".py",
   "mimetype": "text/x-python",
   "name": "python",
   "nbconvert_exporter": "python",
   "pygments_lexer": "ipython3",
   "version": "3.12.7"
  }
 },
 "nbformat": 4,
 "nbformat_minor": 2
}
