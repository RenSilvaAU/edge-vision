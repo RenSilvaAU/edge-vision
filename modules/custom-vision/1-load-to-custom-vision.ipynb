{
 "cells": [
  {
   "cell_type": "markdown",
   "metadata": {},
   "source": [
    "## NB\n",
    "\n",
    "Only install fiftyone **after** the devcontainer was created.\n",
    "\n",
    "This ensures that the required mongodb gets created"
   ]
  },
  {
   "cell_type": "code",
   "execution_count": null,
   "metadata": {},
   "outputs": [],
   "source": [
    "# erase folder ˜/fiftyone/open-images-v7\n",
    "import os\n",
    "os.system('rm -rf ~/fiftyone/open-images-v7')\n",
    "\n",
    "\n"
   ]
  },
  {
   "cell_type": "code",
   "execution_count": null,
   "metadata": {},
   "outputs": [],
   "source": [
    "import os\n",
    "import fiftyone as fo\n",
    "import fiftyone.zoo as foz\n",
    "\n",
    "TargetLabel = \"Coffee cup\"\n",
    "TargetImages = 50\n",
    "\n",
    "try:\n",
    "    # Load the dataset\n",
    "    foz.load_zoo_dataset(\n",
    "        \"open-images-v7\",\n",
    "        split=\"validation\",\n",
    "        label_types=[\"detections\"],\n",
    "        classes=[TargetLabel],\n",
    "        max_samples=TargetImages\n",
    "    )\n",
    "except Exception as e:\n",
    "    # if exception is realted to mongo db, it is ok to proceed\n",
    "    if 'MongoDB' in str(e):\n",
    "        pass\n",
    "    else:\n",
    "        raise e"
   ]
  },
  {
   "cell_type": "code",
   "execution_count": null,
   "metadata": {},
   "outputs": [],
   "source": [
    "# delete all content of ./data folder\n",
    "os.system('rm -rf ./data')\n",
    "# images are written into ~/fiftyone/open-images-v7/validation . copy them to ./data\n",
    "os.system('cp -r ~/fiftyone/open-images-v7/validation ./data')\n",
    "os.system('ls ./data')\n"
   ]
  },
  {
   "cell_type": "code",
   "execution_count": null,
   "metadata": {},
   "outputs": [],
   "source": [
    "# using glob read the names of all files under data/data\n",
    "\n",
    "import glob\n",
    "files = glob.glob('./data/data/*')\n",
    "\n",
    "# create a list called files_names with the names of the files, exlucluding the path and the extension\n",
    "# hint: use os.path.basename and os.path.splitext\n",
    "file_names = [os.path.splitext(os.path.basename(f))[0] for f in files]\n",
    "file_names"
   ]
  },
  {
   "cell_type": "code",
   "execution_count": null,
   "metadata": {},
   "outputs": [],
   "source": [
    "import pandas as pd\n",
    "\n",
    "# read data/metadata/classes.csv into dataframe classes - classes does not have headers. first column is called LabelName, second is called LabelDisplayName\n",
    "classes = pd.read_csv('./data/metadata/classes.csv', header=None, names=['LabelName', 'LabelDisplayName'])\n",
    "\n",
    "# filter classes to only include the class where LabelName is in df.LabelName\n",
    "classes = classes[classes['LabelDisplayName'] == TargetLabel]\n",
    "\n",
    "classes.head()"
   ]
  },
  {
   "cell_type": "code",
   "execution_count": null,
   "metadata": {},
   "outputs": [],
   "source": [
    "# read ./data/labels/detections.csv into a pandas dataframe\n",
    "import pandas as pd\n",
    "\n",
    "detect = pd.read_csv('./data/labels/detections.csv')\n",
    "\n",
    "# keep only rows where LabelName is in classes.LabelName and ImageID is in file_names\n",
    "detect = detect[detect['LabelName'].isin(classes['LabelName']) & detect['ImageID'].isin(file_names)]\n",
    "detect\n"
   ]
  },
  {
   "cell_type": "code",
   "execution_count": null,
   "metadata": {},
   "outputs": [],
   "source": [
    "# add two columns: one with the class name and one with the full file path\n",
    "\n",
    "# merge detect with classes on LabelName\n",
    "detect = pd.merge(detect, classes, on='LabelName')\n",
    "\n",
    "# add a column Class with the value in LabelDisplayName\n",
    "detect['Class'] = detect['LabelDisplayName']\n",
    "\n",
    "# add a column Path with the value './data/data/' + ImageID + '.jpg'\n",
    "detect['Path'] = './data/data/' + detect['ImageID'] + '.jpg'\n",
    "\n",
    "detect"
   ]
  },
  {
   "cell_type": "code",
   "execution_count": null,
   "metadata": {},
   "outputs": [],
   "source": [
    "# keep only Path, Class, XMin\tXMax\tYMin\tYMax\n",
    "detect = detect[['Path', 'Class', 'XMin', 'XMax', 'YMin', 'YMax']]\n",
    "detect"
   ]
  },
  {
   "cell_type": "code",
   "execution_count": null,
   "metadata": {},
   "outputs": [],
   "source": [
    "from collections import defaultdict\n",
    "\n",
    "# Create a dictionary to hold the bounding boxes for each image\n",
    "image_bboxes = defaultdict(list)\n",
    "\n",
    "# Iterate over the rows in the detect dataframe\n",
    "for _, row in detect.iterrows():\n",
    "    image_path = row['Path']\n",
    "    bbox = (row['XMin'], row['XMax'], row['YMin'], row['YMax'])\n",
    "    image_bboxes[image_path].append(bbox)\n",
    "\n",
    "# Convert the dictionary to a list of tuples (image_path, bboxes)\n",
    "merged_bboxes = [(image_path, bboxes) for image_path, bboxes in image_bboxes.items()]\n",
    "merged_bboxes"
   ]
  },
  {
   "cell_type": "code",
   "execution_count": null,
   "metadata": {},
   "outputs": [],
   "source": [
    "# Convert merged_bboxes to a DataFrame\n",
    "merged_bboxes_df = pd.DataFrame(merged_bboxes, columns=['Path', 'BBoxes'])\n",
    "\n",
    "# Save the DataFrame to detections.csv\n",
    "merged_bboxes_df.to_csv('./data/detections.csv', index=False)"
   ]
  },
  {
   "cell_type": "code",
   "execution_count": null,
   "metadata": {},
   "outputs": [],
   "source": [
    "from PIL import Image\n",
    "\n",
    "import matplotlib.pyplot as plt\n",
    "import matplotlib.patches as patches\n",
    "\n",
    "# Function to plot image with bounding boxes\n",
    "def plot_image_with_bboxes(image_path, bboxes):\n",
    "    # Open the image\n",
    "    img = Image.open(image_path)\n",
    "    fig, ax = plt.subplots(1)\n",
    "    ax.imshow(img)\n",
    "\n",
    "    # Get image dimensions\n",
    "    width, height = img.size\n",
    "\n",
    "    # Plot each bounding box\n",
    "    for bbox in bboxes:\n",
    "        xmin, xmax, ymin, ymax = bbox\n",
    "        # Convert from percent to pixels\n",
    "        xmin *= width\n",
    "        xmax *= width\n",
    "        ymin *= height\n",
    "        ymax *= height\n",
    "        # Create a rectangle patch\n",
    "        rect = patches.Rectangle((xmin, ymin), xmax - xmin, ymax - ymin, linewidth=1, edgecolor='r', facecolor='none')\n",
    "        # Add the patch to the Axes\n",
    "        ax.add_patch(rect)\n",
    "\n",
    "    plt.show()\n",
    "\n",
    "# Plot all images with bounding boxes\n",
    "for image_path, bboxes in merged_bboxes[:5]:\n",
    "    plot_image_with_bboxes(image_path, bboxes)"
   ]
  },
  {
   "cell_type": "code",
   "execution_count": null,
   "metadata": {},
   "outputs": [],
   "source": [
    "%pip install azure-cognitiveservices-vision-customvision\n",
    "%pip install python-dotenv\n",
    "%pip install msrest"
   ]
  },
  {
   "cell_type": "code",
   "execution_count": null,
   "metadata": {},
   "outputs": [],
   "source": [
    "from azure.cognitiveservices.vision.customvision.training import CustomVisionTrainingClient\n",
    "from azure.cognitiveservices.vision.customvision.prediction import CustomVisionPredictionClient\n",
    "from msrest.authentication import ApiKeyCredentials\n",
    "from dotenv import load_dotenv\n",
    "import os\n",
    "\n",
    "# Load environment variables from .env file\n",
    "load_dotenv()\n",
    "\n",
    "# Retrieve keys and endpoint from environment variables\n",
    "training_key = os.getenv('TRAINING_KEY')\n",
    "prediction_key = os.getenv('PREDICTION_KEY')\n",
    "endpoint = os.getenv('ENDPOINT')\n",
    "project_id = os.getenv('PROJECT_ID')\n",
    "publish_iteration_name = os.getenv('PUBLISH_ITERATION_NAME')\n",
    "\n",
    "# Authenticate with the training and prediction clients\n",
    "credentials = ApiKeyCredentials(in_headers={\"Training-key\": training_key})\n",
    "trainer = CustomVisionTrainingClient(endpoint, credentials)\n"
   ]
  },
  {
   "cell_type": "code",
   "execution_count": null,
   "metadata": {},
   "outputs": [],
   "source": [
    "# Create a dictionary to hold the tag IDs for each class\n",
    "tag_ids = {}\n",
    "\n",
    "# Get the list of existing tags\n",
    "existing_tags = {tag.name: tag.id for tag in trainer.get_tags(project_id)}\n",
    "\n",
    "# Iterate over the classes dataframe and create a tag for each class\n",
    "for _, row in classes.iterrows():\n",
    "    tag_name = row['LabelDisplayName']\n",
    "    if tag_name in existing_tags:\n",
    "        tag_ids[tag_name] = existing_tags[tag_name]\n",
    "    else:\n",
    "        tag = trainer.create_tag(project_id, tag_name)\n",
    "        tag_ids[tag_name] = tag.id\n",
    "\n",
    "tag_ids"
   ]
  },
  {
   "cell_type": "code",
   "execution_count": null,
   "metadata": {},
   "outputs": [],
   "source": [
    "from azure.cognitiveservices.vision.customvision.training.models import ImageFileCreateEntry, ImageFileCreateBatch, Region\n",
    "\n",
    "# Add images to the project\n",
    "tagged_images_with_regions = []\n",
    "\n",
    "for image_path, bboxes in merged_bboxes:\n",
    "    regions = []\n",
    "    for bbox in bboxes:\n",
    "        xmin, xmax, ymin, ymax = bbox\n",
    "        regions.append(Region(tag_id=tag_ids[TargetLabel], left=xmin, top=ymin, width=xmax - xmin, height=ymax - ymin))\n",
    "    \n",
    "    with open(image_path, \"rb\") as image_contents:\n",
    "        tagged_images_with_regions.append(ImageFileCreateEntry(name=os.path.basename(image_path), contents=image_contents.read(), regions=regions))\n",
    "\n",
    "upload_result = trainer.create_images_from_files(project_id, ImageFileCreateBatch(images=tagged_images_with_regions))\n",
    "if not upload_result.is_batch_successful:\n",
    "    print(\"Image batch upload failed.\")\n",
    "    for image in upload_result.images:\n",
    "        print(\"Image status: \", image.status)\n",
    "    exit(-1)"
   ]
  }
 ],
 "metadata": {
  "kernelspec": {
   "display_name": "Python 3",
   "language": "python",
   "name": "python3"
  },
  "language_info": {
   "codemirror_mode": {
    "name": "ipython",
    "version": 3
   },
   "file_extension": ".py",
   "mimetype": "text/x-python",
   "name": "python",
   "nbconvert_exporter": "python",
   "pygments_lexer": "ipython3",
   "version": "3.12.7"
  }
 },
 "nbformat": 4,
 "nbformat_minor": 2
}
