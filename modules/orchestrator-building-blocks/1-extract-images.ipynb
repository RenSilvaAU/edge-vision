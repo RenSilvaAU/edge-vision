{
 "cells": [
  {
   "cell_type": "code",
   "execution_count": null,
   "metadata": {},
   "outputs": [
    {
     "name": "stdout",
     "output_type": "stream",
     "text": [
      "Captured image 1 at 2024-11-18_04-57-08 and saved as ./images/captured_image_2024-11-18_04-57-08.jpg\n",
      "Captured image 2 at 2024-11-18_04-57-09 and saved as ./images/captured_image_2024-11-18_04-57-09.jpg\n",
      "Captured image 3 at 2024-11-18_04-57-10 and saved as ./images/captured_image_2024-11-18_04-57-10.jpg\n",
      "Captured image 4 at 2024-11-18_04-57-11 and saved as ./images/captured_image_2024-11-18_04-57-11.jpg\n",
      "Captured image 5 at 2024-11-18_04-57-12 and saved as ./images/captured_image_2024-11-18_04-57-12.jpg\n",
      "Captured image 6 at 2024-11-18_04-57-13 and saved as ./images/captured_image_2024-11-18_04-57-13.jpg\n",
      "Captured image 7 at 2024-11-18_04-57-15 and saved as ./images/captured_image_2024-11-18_04-57-15.jpg\n",
      "Captured image 8 at 2024-11-18_04-57-16 and saved as ./images/captured_image_2024-11-18_04-57-16.jpg\n",
      "Captured image 9 at 2024-11-18_04-57-17 and saved as ./images/captured_image_2024-11-18_04-57-17.jpg\n",
      "Captured image 10 at 2024-11-18_04-57-18 and saved as ./images/captured_image_2024-11-18_04-57-18.jpg\n",
      "Captured image 11 at 2024-11-18_04-57-19 and saved as ./images/captured_image_2024-11-18_04-57-19.jpg\n",
      "Captured image 12 at 2024-11-18_04-57-20 and saved as ./images/captured_image_2024-11-18_04-57-20.jpg\n",
      "Captured image 13 at 2024-11-18_04-57-21 and saved as ./images/captured_image_2024-11-18_04-57-21.jpg\n",
      "Captured image 14 at 2024-11-18_04-57-22 and saved as ./images/captured_image_2024-11-18_04-57-22.jpg\n",
      "Captured image 15 at 2024-11-18_04-57-23 and saved as ./images/captured_image_2024-11-18_04-57-23.jpg\n",
      "Captured image 16 at 2024-11-18_04-57-24 and saved as ./images/captured_image_2024-11-18_04-57-24.jpg\n",
      "Captured image 17 at 2024-11-18_04-57-25 and saved as ./images/captured_image_2024-11-18_04-57-25.jpg\n",
      "Captured image 18 at 2024-11-18_04-57-26 and saved as ./images/captured_image_2024-11-18_04-57-26.jpg\n",
      "Captured image 19 at 2024-11-18_04-57-27 and saved as ./images/captured_image_2024-11-18_04-57-27.jpg\n",
      "Captured image 20 at 2024-11-18_04-57-28 and saved as ./images/captured_image_2024-11-18_04-57-28.jpg\n"
     ]
    }
   ],
   "source": [
    "import cv2\n",
    "import time\n",
    "import os\n",
    "\n",
    "from dotenv import load_dotenv\n",
    "\n",
    "load_dotenv()\n",
    "\n",
    "LOCALHOST = os.getenv(\"LOCALHOST\")\n",
    "\n",
    "# RTSP stream URL\n",
    "rtsp_url = f'rtmp://{LOCALHOST}:1935/live/stream'\n",
    "\n",
    "# Open the RTSP stream using OpenCV\n",
    "cap = cv2.VideoCapture(rtsp_url)\n",
    "\n",
    "if not cap.isOpened():\n",
    "    print(\"Error: Could not open video stream.\")\n",
    "    exit()\n",
    "\n",
    "# Create the images directory if it does not exist\n",
    "os.makedirs('./images', exist_ok=True)\n",
    "\n",
    "# Counter for the number of images saved\n",
    "image_count = 0\n",
    "max_images = 20\n",
    "capture_interval = 1  # seconds\n",
    "last_capture_time = time.time()\n",
    "\n",
    "# Loop to capture and save images every 5 seconds\n",
    "while image_count < max_images:\n",
    "    ret, frame = cap.read()\n",
    "    \n",
    "    if not ret:\n",
    "        print(\"Error: Failed to capture image.\")\n",
    "        break\n",
    "    \n",
    "    current_time = time.time()\n",
    "    if current_time - last_capture_time >= capture_interval:\n",
    "        # Print the image every 5 seconds\n",
    "        timestamp = time.strftime(\"%Y-%m-%d_%H-%M-%S\")\n",
    "        image_filename = f\"./images/captured_image_{timestamp}.jpg\"\n",
    "        \n",
    "        # Save the captured frame to a file\n",
    "        cv2.imwrite(image_filename, frame)\n",
    "        image_count += 1\n",
    "        print(f\"Captured image {image_count} at {timestamp} and saved as {image_filename}\")\n",
    "        \n",
    "        # Update the last capture time\n",
    "        last_capture_time = current_time\n",
    "    \n",
    "    # Check if 'q' or 'Q' is pressed to exit\n",
    "    if cv2.waitKey(1) & 0xFF in [ord('q'), ord('Q')]:\n",
    "        print(\"Exiting on user request.\")\n",
    "        break\n",
    "\n",
    "# Release the video capture object and close the window\n",
    "cap.release()\n",
    "cv2.destroyAllWindows()"
   ]
  }
 ],
 "metadata": {
  "kernelspec": {
   "display_name": "Python 3",
   "language": "python",
   "name": "python3"
  },
  "language_info": {
   "codemirror_mode": {
    "name": "ipython",
    "version": 3
   },
   "file_extension": ".py",
   "mimetype": "text/x-python",
   "name": "python",
   "nbconvert_exporter": "python",
   "pygments_lexer": "ipython3",
   "version": "3.12.7"
  }
 },
 "nbformat": 4,
 "nbformat_minor": 2
}
