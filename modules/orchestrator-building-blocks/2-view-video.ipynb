{
 "cells": [
  {
   "cell_type": "code",
   "execution_count": null,
   "metadata": {},
   "outputs": [],
   "source": [
    "# %pip install pillow"
   ]
  },
  {
   "cell_type": "code",
   "execution_count": null,
   "metadata": {},
   "outputs": [],
   "source": [
    "import cv2\n",
    "import time\n",
    "import os\n",
    "from IPython.display import display, Image, clear_output\n",
    "from PIL import Image as PILImage\n",
    "import io\n",
    "\n",
    "from dotenv import load_dotenv\n",
    "\n",
    "load_dotenv()\n",
    "\n",
    "LOCALHOST = os.getenv(\"LOCALHOST\")\n",
    "\n",
    "# RTSP stream URL\n",
    "rtsp_url = f'rtmp://{LOCALHOST}:1935/live/stream'\n",
    "\n",
    "# Open the RTSP stream using OpenCV\n",
    "cap = cv2.VideoCapture(rtsp_url)\n",
    "\n",
    "if not cap.isOpened():\n",
    "    print(\"Error: Could not open video stream.\")\n",
    "    exit()\n",
    "\n",
    "# Set the interval to 2 seconds\n",
    "interval = 2\n",
    "last_capture_time = time.time()\n",
    "\n",
    "# Loop to read the video stream\n",
    "while True:\n",
    "    ret, frame = cap.read()\n",
    "    \n",
    "    if not ret:\n",
    "        print(\"Error: Failed to capture frame.\")\n",
    "        break\n",
    "    \n",
    "    current_time = time.time()\n",
    "    if current_time - last_capture_time >= interval:\n",
    "        # Convert the frame to a format that can be displayed in Jupyter\n",
    "        _, buffer = cv2.imencode('.jpg', frame)\n",
    "        image = PILImage.open(io.BytesIO(buffer))\n",
    "        \n",
    "        # Clear the previous output and display the new image\n",
    "        clear_output(wait=True)\n",
    "        display(image)\n",
    "        \n",
    "        # Update the last capture time\n",
    "        last_capture_time = current_time\n",
    "    \n",
    "    # Check if 'q' or 'Q' is pressed to exit\n",
    "    if cv2.waitKey(1) & 0xFF in [ord('q'), ord('Q')]:\n",
    "        print(\"Exiting on user request.\")\n",
    "        break\n",
    "\n",
    "# Release the video capture object\n",
    "cap.release()"
   ]
  }
 ],
 "metadata": {
  "kernelspec": {
   "display_name": "Python 3",
   "language": "python",
   "name": "python3"
  },
  "language_info": {
   "codemirror_mode": {
    "name": "ipython",
    "version": 3
   },
   "file_extension": ".py",
   "mimetype": "text/x-python",
   "name": "python",
   "nbconvert_exporter": "python",
   "pygments_lexer": "ipython3",
   "version": "3.12.7"
  }
 },
 "nbformat": 4,
 "nbformat_minor": 2
}
